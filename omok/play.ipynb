{
  "nbformat": 4,
  "nbformat_minor": 0,
  "metadata": {
    "colab": {
      "name": "play",
      "provenance": [],
      "authorship_tag": "ABX9TyPzITOpMAg7bE0tegYooaJd",
      "include_colab_link": true
    },
    "kernelspec": {
      "name": "python3",
      "display_name": "Python 3"
    }
  },
  "cells": [
    {
      "cell_type": "markdown",
      "metadata": {
        "id": "view-in-github",
        "colab_type": "text"
      },
      "source": [
        "<a href=\"https://colab.research.google.com/github/gibiee/omok_AI/blob/master/play.ipynb\" target=\"_parent\"><img src=\"https://colab.research.google.com/assets/colab-badge.svg\" alt=\"Open In Colab\"/></a>"
      ]
    },
    {
      "cell_type": "code",
      "metadata": {
        "id": "Sh9AdP0w6xoC",
        "colab_type": "code",
        "colab": {}
      },
      "source": [
        "!pip install -r https://raw.githubusercontent.com/Lasagne/Lasagne/master/requirements.txt\n",
        "!pip install --upgrade https://github.com/Theano/Theano/archive/master.zip\n",
        "!pip install --upgrade https://github.com/Lasagne/Lasagne/archive/master.zip"
      ],
      "execution_count": 0,
      "outputs": []
    },
    {
      "cell_type": "code",
      "metadata": {
        "id": "kl9IvbK97fWy",
        "colab_type": "code",
        "colab": {}
      },
      "source": [
        "!git clone https://github.com/gibiee/omok_AI.git"
      ],
      "execution_count": 0,
      "outputs": []
    },
    {
      "cell_type": "code",
      "metadata": {
        "id": "sAPosOE87hW1",
        "colab_type": "code",
        "colab": {}
      },
      "source": [
        "%run omok_AI/human_play.py"
      ],
      "execution_count": 0,
      "outputs": []
    }
  ]
}